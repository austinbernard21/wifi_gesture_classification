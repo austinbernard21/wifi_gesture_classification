{
 "cells": [
  {
   "cell_type": "code",
   "execution_count": 1,
   "metadata": {},
   "outputs": [],
   "source": [
    "import pickle\n",
    "import os\n",
    "import numpy as np\n",
    "import pandas as pd\n",
    "from sklearn.utils import shuffle\n",
    "from sklearn.model_selection import train_test_split\n",
    "import seaborn as sn\n",
    "import matplotlib.pyplot as plt\n",
    "%matplotlib inline"
   ]
  },
  {
   "cell_type": "code",
   "execution_count": 2,
   "metadata": {},
   "outputs": [],
   "source": [
    "# load data\n",
    "data_dict = {}\n",
    "for path in os.listdir('processed_data/'):\n",
    "    data_dict[path] = []\n",
    "    joined_path = f'processed_data/{path}'\n",
    "    for file in os.listdir(joined_path):\n",
    "        with open(os.path.join(joined_path, file), 'rb') as fin:\n",
    "            data_dict[path].append(pickle.load(fin))"
   ]
  },
  {
   "cell_type": "code",
   "execution_count": 3,
   "metadata": {},
   "outputs": [],
   "source": [
    "# reshape data\n",
    "for key, value in data_dict.items():\n",
    "    num_file = len(value)\n",
    "    samples_per_file = len(value[0])\n",
    "    data_dict[key] = np.array(value).reshape(num_file*samples_per_file,-1)"
   ]
  },
  {
   "cell_type": "code",
   "execution_count": 4,
   "metadata": {},
   "outputs": [],
   "source": [
    "X = []\n",
    "y = []\n",
    "label_dict = {'no_gesture':0, 'sitting':1, 'standing':2, 'walking':3}\n",
    "for key, value in data_dict.items():\n",
    "    for sample in value:\n",
    "        X.append(sample)\n",
    "        y.append(label_dict[key])"
   ]
  },
  {
   "cell_type": "code",
   "execution_count": 5,
   "metadata": {},
   "outputs": [
    {
     "name": "stdout",
     "output_type": "stream",
     "text": [
      "X shape:  (1298, 30000)\n",
      "y shape:  (1298, 4)\n"
     ]
    }
   ],
   "source": [
    "#one hot encode labels\n",
    "y = np.array(y)\n",
    "y_encoded = np.zeros((y.size, y.max()+1))\n",
    "y_encoded[np.arange(y.size),y] = 1\n",
    "\n",
    "num_classes = 4\n",
    "X = np.array(X)\n",
    "y = np.array(y_encoded).reshape(-1,num_classes)\n",
    "\n",
    "print('X shape: ', X.shape)\n",
    "print('y shape: ', y.shape)"
   ]
  },
  {
   "cell_type": "code",
   "execution_count": 6,
   "metadata": {},
   "outputs": [],
   "source": [
    "#bad way of balancing data but fix later!!!!!!\n",
    "balance_num = len(data_dict['no_gesture']) - len(data_dict['sitting'])\n",
    "\n",
    "\n",
    "X_shuffled, y_shuffled = shuffle(X[balance_num:], y[balance_num:])"
   ]
  },
  {
   "cell_type": "code",
   "execution_count": 7,
   "metadata": {},
   "outputs": [],
   "source": [
    "X_train, X_test, y_train, y_test = train_test_split(X_shuffled, y_shuffled, test_size=0.1)"
   ]
  },
  {
   "cell_type": "code",
   "execution_count": 8,
   "metadata": {},
   "outputs": [],
   "source": [
    "from sklearn.decomposition import KernelPCA"
   ]
  },
  {
   "cell_type": "code",
   "execution_count": 9,
   "metadata": {},
   "outputs": [],
   "source": [
    "transformer = KernelPCA(n_components=128,kernel='rbf')\n",
    "X_train_transformed = transformer.fit_transform(X_train)\n",
    "X_test_transformed = transformer.transform(X_test)"
   ]
  },
  {
   "cell_type": "code",
   "execution_count": 10,
   "metadata": {},
   "outputs": [],
   "source": [
    "from sklearn.preprocessing import MinMaxScaler\n",
    "scaler = MinMaxScaler()\n",
    "X_train = scaler.fit_transform(X_train_transformed)\n",
    "X_test = scaler.transform(X_test_transformed)"
   ]
  },
  {
   "cell_type": "code",
   "execution_count": 11,
   "metadata": {},
   "outputs": [],
   "source": [
    "import tensorflow as tf\n",
    "from tensorflow.keras import Sequential\n",
    "from tensorflow.keras.layers import Dense, Dropout\n",
    "from tensorflow.keras.optimizers import Adam"
   ]
  },
  {
   "cell_type": "code",
   "execution_count": 12,
   "metadata": {},
   "outputs": [],
   "source": [
    "nn_model = Sequential()"
   ]
  },
  {
   "cell_type": "code",
   "execution_count": 13,
   "metadata": {},
   "outputs": [
    {
     "name": "stdout",
     "output_type": "stream",
     "text": [
      "WARNING:tensorflow:From C:\\Users\\thebe\\Anaconda3\\envs\\tensorflow_env\\lib\\site-packages\\tensorflow\\python\\ops\\init_ops.py:1251: calling VarianceScaling.__init__ (from tensorflow.python.ops.init_ops) with dtype is deprecated and will be removed in a future version.\n",
      "Instructions for updating:\n",
      "Call initializer instance with the dtype argument instead of passing it to the constructor\n"
     ]
    }
   ],
   "source": [
    "nn_model.add(Dense(64,activation='relu',input_dim=128))\n",
    "nn_model.add(Dropout(.2))\n",
    "nn_model.add(Dense(32, activation = 'relu'))\n",
    "nn_model.add(Dense(4, activation='softmax'))"
   ]
  },
  {
   "cell_type": "code",
   "execution_count": 14,
   "metadata": {},
   "outputs": [
    {
     "name": "stdout",
     "output_type": "stream",
     "text": [
      "Train on 1062 samples, validate on 118 samples\n",
      "WARNING:tensorflow:From C:\\Users\\thebe\\Anaconda3\\envs\\tensorflow_env\\lib\\site-packages\\tensorflow\\python\\ops\\math_grad.py:1250: add_dispatch_support.<locals>.wrapper (from tensorflow.python.ops.array_ops) is deprecated and will be removed in a future version.\n",
      "Instructions for updating:\n",
      "Use tf.where in 2.0, which has the same broadcast rule as np.where\n",
      "Epoch 1/50\n",
      "1062/1062 [==============================] - 1s 608us/sample - loss: 0.5693 - acc: 0.7495 - val_loss: 0.5613 - val_acc: 0.7500\n",
      "Epoch 2/50\n",
      "1062/1062 [==============================] - 0s 45us/sample - loss: 0.5642 - acc: 0.7500 - val_loss: 0.5585 - val_acc: 0.7500\n",
      "Epoch 3/50\n",
      "1062/1062 [==============================] - 0s 49us/sample - loss: 0.5611 - acc: 0.7500 - val_loss: 0.5609 - val_acc: 0.7500\n",
      "Epoch 4/50\n",
      "1062/1062 [==============================] - 0s 53us/sample - loss: 0.5595 - acc: 0.7500 - val_loss: 0.5583 - val_acc: 0.7500\n",
      "Epoch 5/50\n",
      "1062/1062 [==============================] - 0s 49us/sample - loss: 0.5583 - acc: 0.7500 - val_loss: 0.5556 - val_acc: 0.7500\n",
      "Epoch 6/50\n",
      "1062/1062 [==============================] - 0s 47us/sample - loss: 0.5546 - acc: 0.7500 - val_loss: 0.5520 - val_acc: 0.7500\n",
      "Epoch 7/50\n",
      "1062/1062 [==============================] - 0s 53us/sample - loss: 0.5556 - acc: 0.7500 - val_loss: 0.5534 - val_acc: 0.7500\n",
      "Epoch 8/50\n",
      "1062/1062 [==============================] - 0s 62us/sample - loss: 0.5519 - acc: 0.7500 - val_loss: 0.5463 - val_acc: 0.7500\n",
      "Epoch 9/50\n",
      "1062/1062 [==============================] - 0s 56us/sample - loss: 0.5479 - acc: 0.7500 - val_loss: 0.5428 - val_acc: 0.7500\n",
      "Epoch 10/50\n",
      "1062/1062 [==============================] - 0s 53us/sample - loss: 0.5458 - acc: 0.7500 - val_loss: 0.5436 - val_acc: 0.7500\n",
      "Epoch 11/50\n",
      "1062/1062 [==============================] - 0s 53us/sample - loss: 0.5429 - acc: 0.7500 - val_loss: 0.5330 - val_acc: 0.7500\n",
      "Epoch 12/50\n",
      "1062/1062 [==============================] - 0s 49us/sample - loss: 0.5399 - acc: 0.7500 - val_loss: 0.5348 - val_acc: 0.7500\n",
      "Epoch 13/50\n",
      "1062/1062 [==============================] - 0s 56us/sample - loss: 0.5377 - acc: 0.7500 - val_loss: 0.5228 - val_acc: 0.7500\n",
      "Epoch 14/50\n",
      "1062/1062 [==============================] - 0s 53us/sample - loss: 0.5311 - acc: 0.7502 - val_loss: 0.5145 - val_acc: 0.7500\n",
      "Epoch 15/50\n",
      "1062/1062 [==============================] - 0s 53us/sample - loss: 0.5251 - acc: 0.7524 - val_loss: 0.5114 - val_acc: 0.7500\n",
      "Epoch 16/50\n",
      "1062/1062 [==============================] - 0s 51us/sample - loss: 0.5192 - acc: 0.7514 - val_loss: 0.4942 - val_acc: 0.7585\n",
      "Epoch 17/50\n",
      "1062/1062 [==============================] - 0s 49us/sample - loss: 0.5143 - acc: 0.7611 - val_loss: 0.5102 - val_acc: 0.7500\n",
      "Epoch 18/50\n",
      "1062/1062 [==============================] - 0s 51us/sample - loss: 0.5043 - acc: 0.7644 - val_loss: 0.4840 - val_acc: 0.7500\n",
      "Epoch 19/50\n",
      "1062/1062 [==============================] - 0s 47us/sample - loss: 0.4946 - acc: 0.7679 - val_loss: 0.4648 - val_acc: 0.7987\n",
      "Epoch 20/50\n",
      "1062/1062 [==============================] - 0s 53us/sample - loss: 0.4903 - acc: 0.7684 - val_loss: 0.4589 - val_acc: 0.8093\n",
      "Epoch 21/50\n",
      "1062/1062 [==============================] - 0s 51us/sample - loss: 0.4843 - acc: 0.7707 - val_loss: 0.4497 - val_acc: 0.8114\n",
      "Epoch 22/50\n",
      "1062/1062 [==============================] - 0s 60us/sample - loss: 0.4738 - acc: 0.7811 - val_loss: 0.4457 - val_acc: 0.7987\n",
      "Epoch 23/50\n",
      "1062/1062 [==============================] - 0s 68us/sample - loss: 0.4658 - acc: 0.7858 - val_loss: 0.4366 - val_acc: 0.8030\n",
      "Epoch 24/50\n",
      "1062/1062 [==============================] - 0s 66us/sample - loss: 0.4543 - acc: 0.7867 - val_loss: 0.4224 - val_acc: 0.8093\n",
      "Epoch 25/50\n",
      "1062/1062 [==============================] - 0s 53us/sample - loss: 0.4494 - acc: 0.7910 - val_loss: 0.4238 - val_acc: 0.8008\n",
      "Epoch 26/50\n",
      "1062/1062 [==============================] - 0s 66us/sample - loss: 0.4505 - acc: 0.7874 - val_loss: 0.4211 - val_acc: 0.7987\n",
      "Epoch 27/50\n",
      "1062/1062 [==============================] - 0s 64us/sample - loss: 0.4434 - acc: 0.7879 - val_loss: 0.4057 - val_acc: 0.8114\n",
      "Epoch 28/50\n",
      "1062/1062 [==============================] - 0s 64us/sample - loss: 0.4415 - acc: 0.7893 - val_loss: 0.4101 - val_acc: 0.8157\n",
      "Epoch 29/50\n",
      "1062/1062 [==============================] - 0s 62us/sample - loss: 0.4375 - acc: 0.7888 - val_loss: 0.3972 - val_acc: 0.8114\n",
      "Epoch 30/50\n",
      "1062/1062 [==============================] - 0s 68us/sample - loss: 0.4300 - acc: 0.7947 - val_loss: 0.3976 - val_acc: 0.8072\n",
      "Epoch 31/50\n",
      "1062/1062 [==============================] - 0s 61us/sample - loss: 0.4261 - acc: 0.7924 - val_loss: 0.3878 - val_acc: 0.8093\n",
      "Epoch 32/50\n",
      "1062/1062 [==============================] - 0s 60us/sample - loss: 0.4233 - acc: 0.7924 - val_loss: 0.3847 - val_acc: 0.8136\n",
      "Epoch 33/50\n",
      "1062/1062 [==============================] - 0s 62us/sample - loss: 0.4235 - acc: 0.7926 - val_loss: 0.3820 - val_acc: 0.8136\n",
      "Epoch 34/50\n",
      "1062/1062 [==============================] - 0s 62us/sample - loss: 0.4193 - acc: 0.7964 - val_loss: 0.3849 - val_acc: 0.8114\n",
      "Epoch 35/50\n",
      "1062/1062 [==============================] - 0s 58us/sample - loss: 0.4189 - acc: 0.7966 - val_loss: 0.3814 - val_acc: 0.8157\n",
      "Epoch 36/50\n",
      "1062/1062 [==============================] - 0s 53us/sample - loss: 0.4189 - acc: 0.7957 - val_loss: 0.3805 - val_acc: 0.8114\n",
      "Epoch 37/50\n",
      "1062/1062 [==============================] - 0s 49us/sample - loss: 0.4126 - acc: 0.7971 - val_loss: 0.3780 - val_acc: 0.8178\n",
      "Epoch 38/50\n",
      "1062/1062 [==============================] - 0s 41us/sample - loss: 0.4120 - acc: 0.7976 - val_loss: 0.3754 - val_acc: 0.8114\n",
      "Epoch 39/50\n",
      "1062/1062 [==============================] - 0s 49us/sample - loss: 0.4073 - acc: 0.7992 - val_loss: 0.3695 - val_acc: 0.8284\n",
      "Epoch 40/50\n",
      "1062/1062 [==============================] - 0s 45us/sample - loss: 0.4096 - acc: 0.7980 - val_loss: 0.3711 - val_acc: 0.8242\n",
      "Epoch 41/50\n",
      "1062/1062 [==============================] - 0s 49us/sample - loss: 0.4117 - acc: 0.7938 - val_loss: 0.3717 - val_acc: 0.8242\n",
      "Epoch 42/50\n",
      "1062/1062 [==============================] - 0s 41us/sample - loss: 0.4056 - acc: 0.8001 - val_loss: 0.3748 - val_acc: 0.8242\n",
      "Epoch 43/50\n",
      "1062/1062 [==============================] - 0s 36us/sample - loss: 0.4080 - acc: 0.7966 - val_loss: 0.3696 - val_acc: 0.8242\n",
      "Epoch 44/50\n",
      "1062/1062 [==============================] - 0s 45us/sample - loss: 0.4016 - acc: 0.8020 - val_loss: 0.3724 - val_acc: 0.8136\n",
      "Epoch 45/50\n",
      "1062/1062 [==============================] - 0s 47us/sample - loss: 0.4000 - acc: 0.7954 - val_loss: 0.3699 - val_acc: 0.8263\n",
      "Epoch 46/50\n",
      "1062/1062 [==============================] - 0s 45us/sample - loss: 0.4016 - acc: 0.8006 - val_loss: 0.3848 - val_acc: 0.8242\n",
      "Epoch 47/50\n",
      "1062/1062 [==============================] - 0s 49us/sample - loss: 0.4068 - acc: 0.7968 - val_loss: 0.3643 - val_acc: 0.8284\n",
      "Epoch 48/50\n",
      "1062/1062 [==============================] - 0s 41us/sample - loss: 0.3999 - acc: 0.8030 - val_loss: 0.3674 - val_acc: 0.8326\n",
      "Epoch 49/50\n",
      "1062/1062 [==============================] - 0s 53us/sample - loss: 0.4006 - acc: 0.8016 - val_loss: 0.3637 - val_acc: 0.8284\n",
      "Epoch 50/50\n",
      "1062/1062 [==============================] - 0s 45us/sample - loss: 0.3971 - acc: 0.7999 - val_loss: 0.3678 - val_acc: 0.8263\n"
     ]
    },
    {
     "data": {
      "text/plain": [
       "<tensorflow.python.keras.callbacks.History at 0x209972f1d88>"
      ]
     },
     "execution_count": 14,
     "metadata": {},
     "output_type": "execute_result"
    }
   ],
   "source": [
    "nn_model.compile(loss=\"binary_crossentropy\", optimizer=Adam(),\n",
    "    metrics=[\"accuracy\"])\n",
    "nn_model.fit(X_train, y_train, epochs=50, batch_size=128,\n",
    "    verbose=1,validation_data=(X_test,y_test))"
   ]
  },
  {
   "cell_type": "code",
   "execution_count": 15,
   "metadata": {},
   "outputs": [],
   "source": [
    "pred_labels = nn_model.predict_classes(X_test)\n",
    "true_labels = np.argmax(y_test,axis=1)"
   ]
  },
  {
   "cell_type": "code",
   "execution_count": 16,
   "metadata": {},
   "outputs": [],
   "source": [
    "from sklearn.metrics import confusion_matrix\n",
    "cm = confusion_matrix(true_labels,pred_labels)"
   ]
  },
  {
   "cell_type": "code",
   "execution_count": 17,
   "metadata": {},
   "outputs": [
    {
     "data": {
      "image/png": "[encoded data removed]",
      "text/plain": [
       "<Figure size 432x288 with 2 Axes>"
      ]
     },
     "metadata": {
      "needs_background": "light"
     },
     "output_type": "display_data"
    }
   ],
   "source": [
    "df_cm = pd.DataFrame(cm,label_dict.keys(),label_dict.keys())\n",
    "sn.heatmap(df_cm, annot=True) # font size\n",
    "plt.xlabel('Predicted')\n",
    "plt.ylabel('True')\n",
    "plt.show()"
   ]
  },
  {
   "cell_type": "code",
   "execution_count": 18,
   "metadata": {},
   "outputs": [
    {
     "data": {
      "text/plain": [
       "array([[14,  4,  5,  0],\n",
       "       [ 6, 24,  3,  1],\n",
       "       [10,  8,  6,  2],\n",
       "       [ 1,  1,  0, 33]], dtype=int64)"
      ]
     },
     "execution_count": 18,
     "metadata": {},
     "output_type": "execute_result"
    }
   ],
   "source": [
    "cm"
   ]
  },
  {
   "cell_type": "code",
   "execution_count": null,
   "metadata": {},
   "outputs": [],
   "source": []
  }
 ],
 "metadata": {
  "kernelspec": {
   "display_name": "Python 3",
   "language": "python",
   "name": "python3"
  },
  "language_info": {
   "codemirror_mode": {
    "name": "ipython",
    "version": 3
   },
   "file_extension": ".py",
   "mimetype": "text/x-python",
   "name": "python",
   "nbconvert_exporter": "python",
   "pygments_lexer": "ipython3",
   "version": "3.7.4"
  }
 },
 "nbformat": 4,
 "nbformat_minor": 2
}
